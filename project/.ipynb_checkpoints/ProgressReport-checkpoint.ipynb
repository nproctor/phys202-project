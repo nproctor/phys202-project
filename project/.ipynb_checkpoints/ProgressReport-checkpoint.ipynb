{
 "cells": [
  {
   "cell_type": "markdown",
   "metadata": {},
   "source": [
    "Abstract"
   ]
  },
  {
   "cell_type": "markdown",
   "metadata": {},
   "source": [
    "Neural networking is a form of machine learning inspired by the biological function of the human brain. By giving the program known inputs and outputs of a function, the computer learns the outputs of the function. In this program, the computer is given a set of 1792 hand written digits from zero to nine. Each 64 pixel digit is given as a 2D array of values correspoding to the pixel shade; similar images will have similar arrays. After a training period is completed, the computer will be able to output the value for any of the 1792 hand written digits with an accuracy significantly greater than guessing. This neural network is contructed with 64 inputs in a single input layer, a variable number of hidden nuerons in a single hidden layer, and 10 outputs in a single output layer. The training set is also variable. "
   ]
  },
  {
   "cell_type": "markdown",
   "metadata": {},
   "source": [
    "After the computer is put through a training session involving only a portion of the 1792 images, it will be given the entire set of images. The computer's outputs will be compared to the true values and a percent error will verify the code is working. "
   ]
  },
  {
   "cell_type": "markdown",
   "metadata": {},
   "source": [
    "Once the program is working, and the computer can accurately determine the image array values, the program is then modified to allow for multiple hidden layers and again trained and tested with the 1792 digit set. Then, it will be programmed to translate morse using non-handwritten dashes and periods. From this, the training set will be the entire morse dictionary and the \"test\" set will be human entered morse code sentences. Because there will be no variation in the test set and the training set, this is more of a question of how many iterations does it take to learn identical data. Also, this will be a neural network with 4 nodes in the input layer and 26 nodes in the output layer. It will interesting to see how long many interations it will take to get 100% and the time it takes to get it. "
   ]
  },
  {
   "cell_type": "code",
   "execution_count": 57,
   "metadata": {
    "collapsed": false
   },
   "outputs": [],
   "source": [
    "import numpy as np\n",
    "from sklearn.datasets import load_digits \n",
    "digits = load_digits()\n",
    "from IPython.html.widgets import interact\n",
    "%matplotlib inline\n",
    "import matplotlib.pyplot as plt\n",
    "import timeit\n",
    "from IPython.display import Image\n",
    "import NNpix as npx\n",
    "import timeit"
   ]
  },
  {
   "cell_type": "markdown",
   "metadata": {},
   "source": [
    "A neuron in the brain can either fire or not fire. Computer based neural networks attempt to imitate the operations of a brain.  This is done with an activation function. An ideal activation function would be a step function. At some threshold value, the neuron \"fires\" and produced a value of 1. If this threshold is not met, it produces 0. However, computationally, it is mathmatically convienient to have a smooth function. Thus, the sigmoid function is used. Since this activation function will be used extensively in the devepment of a neural network, the first step is defining a function that calculates the sigmoid of a value. "
   ]
  },
  {
   "cell_type": "markdown",
   "metadata": {},
   "source": [
    "$$\\sigma(x) = \\frac {1}{1+e^{-x}}$$"
   ]
  },
  {
   "cell_type": "code",
   "execution_count": 2,
   "metadata": {
    "collapsed": true
   },
   "outputs": [],
   "source": [
    "\"\"\" The activation function. \"\"\"\n",
    "def sigmoid(x):\n",
    "    return 1/(1+np.exp(-x))"
   ]
  },
  {
   "cell_type": "code",
   "execution_count": 5,
   "metadata": {
    "collapsed": false
   },
   "outputs": [],
   "source": [
    "assert sigmoid(np.log(2)) == 2/3"
   ]
  },
  {
   "cell_type": "code",
   "execution_count": 8,
   "metadata": {
    "collapsed": true
   },
   "outputs": [],
   "source": [
    "\"\"\" The \"\"\"\n",
    "def sigmoid_prime(x):\n",
    "    return sigmoid(x)*(1-sigmoid(x))"
   ]
  },
  {
   "cell_type": "code",
   "execution_count": 5,
   "metadata": {
    "collapsed": false
   },
   "outputs": [
    {
     "data": {
      "image/png": "[encoded data removed]",
      "text/plain": [
       "<matplotlib.figure.Figure at 0x7f2b64712908>"
      ]
     },
     "metadata": {},
     "output_type": "display_data"
    }
   ],
   "source": [
    "x = np.linspace(-10,10,100)\n",
    "y = sigmoid(x)\n",
    "a = [-10,-1,0,1,10]\n",
    "b = [0,0,0,1,1]\n",
    "plt.plot(x,y, label=\"Sigmoid Function\")\n",
    "plt.step(a,b, \"r\", label=\"Step Function\")\n",
    "plt.xlim(-10,10)\n",
    "plt.ylim(-0.1,1.1)\n",
    "plt.title(\"Activation Functions\")\n",
    "plt.legend(loc=4)\n",
    "plt.show()"
   ]
  },
  {
   "cell_type": "code",
   "execution_count": 27,
   "metadata": {
    "collapsed": false
   },
   "outputs": [],
   "source": [
    "\"\"\" Using random permutations to train with random values of the total set \"\"\"\n",
    "perm = np.random.permutation(1797)"
   ]
  },
  {
   "cell_type": "code",
   "execution_count": 28,
   "metadata": {
    "collapsed": false
   },
   "outputs": [],
   "source": [
    "assert len(perm) == 1797"
   ]
  },
  {
   "cell_type": "code",
   "execution_count": 30,
   "metadata": {
    "collapsed": false
   },
   "outputs": [],
   "source": [
    "\"\"\"Turn each 2D array into 1D array, turn all integers into decimals, append 1 for the input bias\"\"\"\n",
    "\n",
    "# training_input = np.array([np.append((digits.images[perm[i]].flatten())/100,[1]) for i in range(1000)])\n",
    "training_input = np.array([digits.images[perm[i]].flatten() for i in range(1000)])/100\n",
    "test_input = np.array([digits.images[perm[i]].flatten() for i in range(1000,1797)])/100"
   ]
  },
  {
   "cell_type": "code",
   "execution_count": 31,
   "metadata": {
    "collapsed": false
   },
   "outputs": [],
   "source": [
    "assert len(training_input[0]) == 64"
   ]
  },
  {
   "cell_type": "code",
   "execution_count": 33,
   "metadata": {
    "collapsed": false
   },
   "outputs": [],
   "source": [
    "assert len(test_input[0]) == 64"
   ]
  },
  {
   "cell_type": "markdown",
   "metadata": {},
   "source": [
    "Creating the solutions to the training input is a bit more involved. The simplest way to approach this is with 10 output neurons in a single output layer. Each of these neurons will represent a different number from 0-9 based on their index. Here, a function is created that takes a set of single digit numbers and creates a 2D array that represent those numbers. This is the solution array to the training inputs. "
   ]
  },
  {
   "cell_type": "code",
   "execution_count": 34,
   "metadata": {
    "collapsed": true
   },
   "outputs": [],
   "source": [
    "def create_training_soln(training_numbers):\n",
    "    \"\"\" Creates 2D array for training solutions \"\"\"\n",
    "    a = np.repeat(0,10,None)\n",
    "    a = np.repeat([a], len(training_numbers), 0)\n",
    "    for i in range(len(training_numbers)):\n",
    "        a[i][training_numbers[i]] = 1\n",
    "    return a"
   ]
  },
  {
   "cell_type": "code",
   "execution_count": 44,
   "metadata": {
    "collapsed": false
   },
   "outputs": [],
   "source": [
    "\"\"\"Generat a training solution\"\"\"\n",
    "training_solution = create_training_soln([digits.target[perm[i]] for i in range(1000)])\n",
    "test_solution = create_training_soln([digits.target[perm[i]] for i in range(1000,1797)])\n",
    "number_solution = np.array([digits.target[perm[i]] for i in range(1000,1797)])"
   ]
  },
  {
   "cell_type": "code",
   "execution_count": 45,
   "metadata": {
    "collapsed": false
   },
   "outputs": [],
   "source": [
    "assert len(training_solution[0]) == 10\n",
    "assert len(test_solution[0]) == 10"
   ]
  },
  {
   "cell_type": "markdown",
   "metadata": {},
   "source": [
    "This is the bulk of the program. Here is where the training and backpropogation takes place to generate weights that best fit the data. I, J, and K each represent a layer. \"I\" is the input layer, \"J\" is the hidden layer, and \"K\" is the output layer. \"WIJ\" is then the array of weights between the I and J layers and \"WJK\" being the same between the J and K layers. These arrays are initially randomized, and change with iterations depending on the output error. "
   ]
  },
  {
   "cell_type": "markdown",
   "metadata": {},
   "source": [
    "The easiest way to process what exactly is going on below is to think of it very simplistically and mathematically. The computer is given an input. The input is multiplied by weights, summed and fed into a sigmoid function. This process occurs for each of the hidden neurons, each using the same input, but different weights. Since only a single number is fed into the sigmoid function of each neuron, only a single number is outputed by each hidden neuron. These hidden neuron outputs are then treated as inputs for the output layer. The hidden layer outputs are multiplied by weights, summed and fed into a sigmoid function. The outputs of this sigmoid function, are the outputs of the output layer, thus the final output. The difference between the expected output and the actual output is computed, and this difference is used to changed the weights. Once the weights have been changed, the process is repeated with a new image. "
   ]
  },
  {
   "cell_type": "code",
   "execution_count": 46,
   "metadata": {
    "collapsed": false
   },
   "outputs": [
    {
     "data": {
      "image/png": "[encoded data removed]",
      "text/plain": [
       "<IPython.core.display.Image object>"
      ]
     },
     "execution_count": 46,
     "metadata": {
      "image/png": {
       "height": 400,
       "width": 400
      }
     },
     "output_type": "execute_result"
    }
   ],
   "source": [
    "Image(url='http://mechanicalforex.com/wp-content/uploads/2011/06/NN.png', embed=True, width = 400, height = 400)"
   ]
  },
  {
   "cell_type": "markdown",
   "metadata": {},
   "source": [
    "This diagram is \"messy\" simply because that is the nature of neutral networks! It has an organization, but everything connects to the layer before it. This diagram also depicts multiple output neurons which is essential to this neural network. "
   ]
  },
  {
   "cell_type": "markdown",
   "metadata": {},
   "source": [
    "To explain mathmatically what is going on, let's do some calculations:"
   ]
  },
  {
   "cell_type": "markdown",
   "metadata": {},
   "source": [
    "Here is the cost function:"
   ]
  },
  {
   "cell_type": "markdown",
   "metadata": {},
   "source": [
    "$$C = \\frac{1}{2}(y-\\hat{y})^{2} $$"
   ]
  },
  {
   "cell_type": "markdown",
   "metadata": {
    "collapsed": true
   },
   "source": [
    "Note that $ \\hat{y} $ is the computer solution array  and $ y $ is the solution value array."
   ]
  },
  {
   "cell_type": "markdown",
   "metadata": {},
   "source": [
    "We do not know $ \\frac{\\partial{\\hat{y}}}{\\partial{W_2}} $ but we can break it into partials that we do know. "
   ]
  },
  {
   "cell_type": "markdown",
   "metadata": {
    "collapsed": true
   },
   "source": [
    "$$ \\frac{\\partial{C}}{\\partial{W_2}} = -(y-\\hat{y})^{2} \\frac{\\partial{\\hat{y}}}{\\partial{c}} \\frac{\\partial{c}}{\\partial{W_2}} $$"
   ]
  },
  {
   "cell_type": "markdown",
   "metadata": {},
   "source": [
    "And we know $\\hat{y} = \\sigma(c) $ where $c$ is the array of outputs. "
   ]
  },
  {
   "cell_type": "code",
   "execution_count": 47,
   "metadata": {
    "collapsed": false
   },
   "outputs": [],
   "source": [
    "class NN_training(object):\n",
    "    \n",
    "    def __init__(self, input_array, soln, hidnum, iters, lr):\n",
    "        self.input_array = input_array\n",
    "        self.soln = soln\n",
    "        #Number of hidden nodes\n",
    "        self.hidnum = hidnum\n",
    "        #Number of iterations through the training set\n",
    "        self.iters = iters\n",
    "        #Initalize WIJ weights (input to hidden)\n",
    "        self.wij = np.random.uniform(-.5,0.5,(hidnum,65))\n",
    "        #Initalize WJK weights (hidden to output)\n",
    "        self.wjk = np.random.uniform(-0.5,0.5,(10,hidnum+1))\n",
    "        #Set a learning rate\n",
    "        self.lr = lr\n",
    "\n",
    "\n",
    "    def train(self):\n",
    "        iters = self.iters   \n",
    "        for n in range(iters): \n",
    "            for i in range(len(self.input_array)):\n",
    "                soln = self.soln[i]\n",
    "                hidnum = self.hidnum\n",
    "                input_array = np.append(self.input_array[i],[1])\n",
    "                #Find sum of weights x input array values for each hidden\n",
    "                self.hidden_sums = (sum((input_array * self.wij).T)).T\n",
    "                #Find outputs of hidden neurons; include bias\n",
    "                self.hidden_out = np.append(sigmoid(self.hidden_sums),[1])\n",
    "                #Find sums of weights x hidden outs for each neuron in output layer\n",
    "                self.output_sums = (sum((self.hidden_out * self.wjk).T)).T\n",
    "                #Find output of the outputs\n",
    "                self.output_out = sigmoid(self.output_sums)\n",
    "                self.E = self.output_out - soln\n",
    "                 #Find delta values for each output\n",
    "                self.output_deltas = self.E * sigmoid_prime(self.output_sums)\n",
    "                 #Find delta values for each hidden\n",
    "                self.hidden_deltas = sigmoid_prime(np.delete(self.hidden_out,[hidnum],None)) * sum((self.output_deltas * (np.delete(self.wjk, [hidnum], 1)).T).T)\n",
    "                #Change weights\n",
    "                self.wij = -self.lr * (self.hidden_deltas*(np.repeat([input_array],hidnum,0)).T).T + self.wij\n",
    "                self.wjk = -self.lr * (self.output_deltas*(np.repeat([self.hidden_out],10,0)).T).T + self.wjk\n",
    "        return (self.wij, self.wjk)\n"
   ]
  },
  {
   "cell_type": "markdown",
   "metadata": {},
   "source": [
    "Now that the neural network has been constructed, it is time to train it. First, create an instance of a class with 30 hidden nuerons, 60 iterations, and a learning rate of 0.7."
   ]
  },
  {
   "cell_type": "code",
   "execution_count": 48,
   "metadata": {
    "collapsed": false
   },
   "outputs": [],
   "source": [
    "\"\"\" Create an instance of a class \"\"\"\n",
    "my_net = NN_training(training_input, training_solution, 40, 90, 0.7)"
   ]
  },
  {
   "cell_type": "markdown",
   "metadata": {},
   "source": [
    "Let x be the final WIJ and y be the final WJK."
   ]
  },
  {
   "cell_type": "code",
   "execution_count": 49,
   "metadata": {
    "collapsed": false
   },
   "outputs": [],
   "source": [
    "\"\"\" Get final weights \"\"\"\n",
    "x,y = my_net.train()"
   ]
  },
  {
   "cell_type": "markdown",
   "metadata": {},
   "source": [
    "Saving the weights for the class demonstration. "
   ]
  },
  {
   "cell_type": "code",
   "execution_count": 63,
   "metadata": {
    "collapsed": true
   },
   "outputs": [],
   "source": [
    "np.savez(\"NNweights.npz\", x,y)"
   ]
  },
  {
   "cell_type": "markdown",
   "metadata": {},
   "source": [
    "Although there is a bulk of code below, it is almost entirely identical to the training class above. The essential difference being the weights are fed into the NN_ask class, no iterations are taking place, no weights are being changed, and no solutions are fed into the program. The purpose here is to give the program inputs and see if it has \"learned\". This is the test for the learning code above. With the calculated weights, this program should be able to calculate an output for all 1797 hand written digits that matches the solutions with minimal error. "
   ]
  },
  {
   "cell_type": "code",
   "execution_count": 51,
   "metadata": {
    "collapsed": false
   },
   "outputs": [],
   "source": [
    "class NN_ask (object):\n",
    "    \"\"\" Feed forward using final weights from training backpropagation \"\"\"\n",
    "    def __init__(self, input_array, wij, wjk):\n",
    "        self.input_array = input_array\n",
    "        self.wij = wij\n",
    "        self.wjk = wjk\n",
    "    def get_ans(self):\n",
    "        wij = self.wij\n",
    "        wjk = self.wjk\n",
    "        soln = []\n",
    "        for i in range(len(self.input_array)):\n",
    "            input_array = np.append(self.input_array[i],[1])\n",
    "            self.hidden_sums = (sum((input_array * wij).T)).T\n",
    "            self.hidden_out = np.append(sigmoid(self.hidden_sums),[1]) \n",
    "            self.output_sums = (sum((self.hidden_out * wjk).T)).T\n",
    "            self.output_out = sigmoid(self.output_sums)\n",
    "            for i in range(len(self.output_out)):\n",
    "                if self.output_out[i] == max(self.output_out):\n",
    "                    a = i\n",
    "                    soln.append(a)\n",
    "        return soln"
   ]
  },
  {
   "cell_type": "code",
   "execution_count": 52,
   "metadata": {
    "collapsed": false
   },
   "outputs": [],
   "source": [
    "\"\"\" Instance of NN_ask class using calculated weights and all 1797 images\"\"\"\n",
    "test_net = NN_ask(test_input, x, y)"
   ]
  },
  {
   "cell_type": "markdown",
   "metadata": {},
   "source": [
    "\"comp_vals\" is set equal to the computer's output for all the 1797 images"
   ]
  },
  {
   "cell_type": "code",
   "execution_count": 53,
   "metadata": {
    "collapsed": false
   },
   "outputs": [],
   "source": [
    "\"\"\" Get the computer's output for all 1797 images \"\"\"\n",
    "comp_vals = test_net.get_ans() "
   ]
  },
  {
   "cell_type": "markdown",
   "metadata": {},
   "source": [
    "And finally, the error is calculated between the computer's answers and the actual answers for all the digits. "
   ]
  },
  {
   "cell_type": "code",
   "execution_count": 54,
   "metadata": {
    "collapsed": false
   },
   "outputs": [
    {
     "name": "stdout",
     "output_type": "stream",
     "text": [
      "96.2358845671 %\n"
     ]
    }
   ],
   "source": [
    "\"\"\" Calculate error \"\"\"\n",
    "print(((sum((comp_vals-number_solution == 0).astype(int)) / (1797-1000)) * 100), \"%\")"
   ]
  }
 ],
 "metadata": {
  "kernelspec": {
   "display_name": "Python 3",
   "language": "python",
   "name": "python3"
  },
  "language_info": {
   "codemirror_mode": {
    "name": "ipython",
    "version": 3
   },
   "file_extension": ".py",
   "mimetype": "text/x-python",
   "name": "python",
   "nbconvert_exporter": "python",
   "pygments_lexer": "ipython3",
   "version": "3.4.0"
  }
 },
 "nbformat": 4,
 "nbformat_minor": 0
}
