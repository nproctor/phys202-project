{
 "cells": [
  {
   "cell_type": "markdown",
   "metadata": {},
   "source": [
    "##Base Code"
   ]
  },
  {
   "cell_type": "markdown",
   "metadata": {},
   "source": [
    "Here the neural net code is created and implemented. For the following notebooks, the neural network code will be saved to disk and imported. All weights are also saved to disk and upload from a previous training run. The code to train the weights has been commented out but remains in the notebook to display how the weights are called. "
   ]
  },
  {
   "cell_type": "code",
   "execution_count": 82,
   "metadata": {
    "collapsed": false
   },
   "outputs": [],
   "source": [
    "import numpy as np\n",
    "from sklearn.datasets import load_digits \n",
    "digits = load_digits()\n",
    "from IPython.html.widgets import interact\n",
    "%matplotlib inline\n",
    "import matplotlib.pyplot as plt\n",
    "import NNpix as npx"
   ]
  },
  {
   "cell_type": "markdown",
   "metadata": {},
   "source": [
    "### Visualizing our Data: "
   ]
  },
  {
   "cell_type": "code",
   "execution_count": 107,
   "metadata": {
    "collapsed": false
   },
   "outputs": [],
   "source": [
    "def interact_fun(i):\n",
    "    plt.matshow(digits.images[i])\n",
    "    plt.show()\n",
    "    print(\"True Number: %d\" % digits.target[i])"
   ]
  },
  {
   "cell_type": "code",
   "execution_count": 108,
   "metadata": {
    "collapsed": false
   },
   "outputs": [
    {
     "data": {
      "image/png": "[encoded data removed]",
      "text/plain": [
       "<matplotlib.figure.Figure at 0x7fd9b9c04550>"
      ]
     },
     "metadata": {},
     "output_type": "display_data"
    },
    {
     "name": "stdout",
     "output_type": "stream",
     "text": [
      "True Number: 7\n"
     ]
    }
   ],
   "source": [
    "interact(interact_fun, i=(0,1796));"
   ]
  },
  {
   "cell_type": "markdown",
   "metadata": {},
   "source": [
    "###Useful Functions:"
   ]
  },
  {
   "cell_type": "markdown",
   "metadata": {},
   "source": [
    "In order to change the weights, we'll need the sigmoid and sigmoid prime functions."
   ]
  },
  {
   "cell_type": "markdown",
   "metadata": {},
   "source": [
    "$\\sigma(x) = \\frac {1}{1+e^{-x}} \\\\\n",
    " \\sigma\\prime(x) = \\sigma(x) \\times (1-\\sigma(x)) $"
   ]
  },
  {
   "cell_type": "code",
   "execution_count": 85,
   "metadata": {
    "collapsed": true
   },
   "outputs": [],
   "source": [
    "\"\"\" The activation function. \"\"\"\n",
    "def sigmoid(x):\n",
    "    return 1/(1+np.exp(-x))"
   ]
  },
  {
   "cell_type": "code",
   "execution_count": 86,
   "metadata": {
    "collapsed": true
   },
   "outputs": [],
   "source": [
    "assert sigmoid(np.log(2)) == 2/3"
   ]
  },
  {
   "cell_type": "code",
   "execution_count": 87,
   "metadata": {
    "collapsed": true
   },
   "outputs": [],
   "source": [
    "\"\"\" The derivative of the activation function \"\"\"\n",
    "def sigmoid_prime(x):\n",
    "    return sigmoid(x)*(1-sigmoid(x))"
   ]
  },
  {
   "cell_type": "markdown",
   "metadata": {},
   "source": [
    "### Neural Networks 1D Input"
   ]
  },
  {
   "cell_type": "markdown",
   "metadata": {},
   "source": [
    "Neural networks require a 1D input per output. Our data initially is 2D. "
   ]
  },
  {
   "cell_type": "code",
   "execution_count": 88,
   "metadata": {
    "collapsed": false
   },
   "outputs": [
    {
     "name": "stdout",
     "output_type": "stream",
     "text": [
      "[[  0.   0.   5.  13.   9.   1.   0.   0.]\n",
      " [  0.   0.  13.  15.  10.  15.   5.   0.]\n",
      " [  0.   3.  15.   2.   0.  11.   8.   0.]\n",
      " [  0.   4.  12.   0.   0.   8.   8.   0.]\n",
      " [  0.   5.   8.   0.   0.   9.   8.   0.]\n",
      " [  0.   4.  11.   0.   1.  12.   7.   0.]\n",
      " [  0.   2.  14.   5.  10.  12.   0.   0.]\n",
      " [  0.   0.   6.  13.  10.   0.   0.   0.]]\n"
     ]
    }
   ],
   "source": [
    "print(digits.images[0])"
   ]
  },
  {
   "cell_type": "markdown",
   "metadata": {},
   "source": [
    "Here, the input is now 1D. Because it has 64 elements per array, we'll need 64 input neurons. "
   ]
  },
  {
   "cell_type": "code",
   "execution_count": 89,
   "metadata": {
    "collapsed": false
   },
   "outputs": [
    {
     "name": "stdout",
     "output_type": "stream",
     "text": [
      "[  0.   0.   5.  13.   9.   1.   0.   0.   0.   0.  13.  15.  10.  15.   5.\n",
      "   0.   0.   3.  15.   2.   0.  11.   8.   0.   0.   4.  12.   0.   0.   8.\n",
      "   8.   0.   0.   5.   8.   0.   0.   9.   8.   0.   0.   4.  11.   0.   1.\n",
      "  12.   7.   0.   0.   2.  14.   5.  10.  12.   0.   0.   0.   0.   6.  13.\n",
      "  10.   0.   0.   0.]\n"
     ]
    }
   ],
   "source": [
    "print(digits.images[0].flatten())"
   ]
  },
  {
   "cell_type": "markdown",
   "metadata": {},
   "source": [
    "### Create training and testing inputs"
   ]
  },
  {
   "cell_type": "markdown",
   "metadata": {},
   "source": [
    "* The training input for maximum accuracy is 1000 random samples. \n",
    "* The testing input is the last 797 random samples. \n",
    "* All inputs are converted to decimals"
   ]
  },
  {
   "cell_type": "code",
   "execution_count": 90,
   "metadata": {
    "collapsed": true
   },
   "outputs": [],
   "source": [
    "perm = np.random.permutation(1797)"
   ]
  },
  {
   "cell_type": "code",
   "execution_count": 91,
   "metadata": {
    "collapsed": false
   },
   "outputs": [],
   "source": [
    "\"\"\" Divide by 100 to get inputs into decimals \"\"\"\n",
    "training_input = np.array([digits.images[perm[i]].flatten() for i in range(1000)])/100\n",
    "test_input = np.array([digits.images[perm[i]].flatten() for i in range(1000,1797)])/100"
   ]
  },
  {
   "cell_type": "code",
   "execution_count": 92,
   "metadata": {
    "collapsed": false
   },
   "outputs": [],
   "source": [
    "assert len(training_input[0]) == 64\n",
    "assert len(test_input[0]) == 64"
   ]
  },
  {
   "cell_type": "markdown",
   "metadata": {},
   "source": [
    "###Create training solution"
   ]
  },
  {
   "cell_type": "markdown",
   "metadata": {},
   "source": [
    "* Sigmoid functions can only produce values 0-1\n",
    "* We want output values 0-9\n",
    "* This means we need an output layer of 10 neurons\n",
    "* Whichever number neuron is \"firing\" (closest to 1) is the number answer"
   ]
  },
  {
   "cell_type": "markdown",
   "metadata": {},
   "source": [
    "#####Example:\n",
    "- Output Value: 4\n",
    "- Neural Network Output: [0,0,0,0,1,0,0,0,0,0]"
   ]
  },
  {
   "cell_type": "code",
   "execution_count": 93,
   "metadata": {
    "collapsed": true
   },
   "outputs": [],
   "source": [
    "def create_soln(training_numbers):\n",
    "    \"\"\" Creates 2D array for training solutions \"\"\"\n",
    "    a = np.repeat(0,10,None)\n",
    "    a = np.repeat([a], len(training_numbers), 0)\n",
    "    for i in range(len(training_numbers)):\n",
    "        a[i][training_numbers[i]] = 1\n",
    "    return a"
   ]
  },
  {
   "cell_type": "code",
   "execution_count": 94,
   "metadata": {
    "collapsed": true
   },
   "outputs": [],
   "source": [
    "\"\"\" True number solutions used to calculate accuracy\"\"\"\n",
    "number_solution = np.array([digits.target[perm[i]] for i in range(1000,1797)])"
   ]
  },
  {
   "cell_type": "code",
   "execution_count": 95,
   "metadata": {
    "collapsed": true
   },
   "outputs": [],
   "source": [
    "\"\"\" Creates the array of solutions to be entered into the neural network\"\"\"\n",
    "training_solution = create_soln([digits.target[perm[i]] for i in range(1000)])"
   ]
  },
  {
   "cell_type": "code",
   "execution_count": 96,
   "metadata": {
    "collapsed": false
   },
   "outputs": [],
   "source": [
    "assert len(training_solution[0]) == 10"
   ]
  },
  {
   "cell_type": "markdown",
   "metadata": {},
   "source": [
    "###Creating the Training Class"
   ]
  },
  {
   "cell_type": "markdown",
   "metadata": {},
   "source": [
    "This is the class used to train the neural network. The \"train\" function iterates through the input arrays and solution arrays and returns the weights."
   ]
  },
  {
   "cell_type": "code",
   "execution_count": 97,
   "metadata": {
    "collapsed": true
   },
   "outputs": [],
   "source": [
    "class NN_training(object):\n",
    "    \n",
    "    def __init__(self, input_array, soln, hidnum, iters, lr):\n",
    "        self.input_array = input_array\n",
    "        self.soln = soln\n",
    "        #Number of hidden nodes\n",
    "        self.hidnum = hidnum\n",
    "        #Number of iterations through the training set\n",
    "        self.iters = iters\n",
    "        #Initalize WIJ weights (input to hidden)\n",
    "        self.wij = np.random.uniform(-.5,0.5,(hidnum,65))\n",
    "        #Initalize WJK weights (hidden to output)\n",
    "        self.wjk = np.random.uniform(-0.5,0.5,(10,hidnum+1))\n",
    "        #Set a learning rate\n",
    "        self.lr = lr\n",
    "\n",
    "\n",
    "    def train(self):\n",
    "        iters = self.iters   \n",
    "        for n in range(iters): \n",
    "            for i in range(len(self.input_array)):\n",
    "                soln = self.soln[i]\n",
    "                hidnum = self.hidnum\n",
    "                input_array = np.append(self.input_array[i],[1])\n",
    "                #Find sum of weights x input array values for each hidden\n",
    "                self.hidden_sums = (sum((input_array * self.wij).T)).T\n",
    "                #Find outputs of hidden neurons; include bias\n",
    "                self.hidden_out = np.append(sigmoid(self.hidden_sums),[1])\n",
    "                #Find sums of weights x hidden outs for each neuron in output layer\n",
    "                self.output_sums = (sum((self.hidden_out * self.wjk).T)).T\n",
    "                #Find output of the outputs\n",
    "                self.output_out = sigmoid(self.output_sums)\n",
    "                self.E = self.output_out - soln\n",
    "                 #Find delta values for each output\n",
    "                self.output_deltas = self.E * sigmoid_prime(self.output_sums)\n",
    "                 #Find delta values for each hidden\n",
    "                self.hidden_deltas = sigmoid_prime(np.delete(self.hidden_out,[hidnum],None)) * sum((self.output_deltas * (np.delete(self.wjk, [hidnum], 1)).T).T)\n",
    "                #Change weights\n",
    "                self.wij = -self.lr * (self.hidden_deltas*(np.repeat([input_array],hidnum,0)).T).T + self.wij\n",
    "                self.wjk = -self.lr * (self.output_deltas*(np.repeat([self.hidden_out],10,0)).T).T + self.wjk\n",
    "        return (self.wij, self.wjk)\n"
   ]
  },
  {
   "cell_type": "markdown",
   "metadata": {},
   "source": [
    "Our input array is \"training_input\" our solution array is \"training_solution\". I chose 40 hidden nodes and 90 iterations with a learning rate of 0.7."
   ]
  },
  {
   "cell_type": "code",
   "execution_count": 98,
   "metadata": {
    "collapsed": true
   },
   "outputs": [],
   "source": [
    "my_net = NN_training(training_input, training_solution, 40, 90, 0.7)"
   ]
  },
  {
   "cell_type": "markdown",
   "metadata": {},
   "source": [
    "To generate the weights, use the commented out line below. Because it is a slow process, I will be loading weights from a previous training. "
   ]
  },
  {
   "cell_type": "code",
   "execution_count": 109,
   "metadata": {
    "collapsed": true
   },
   "outputs": [],
   "source": [
    "# x, y = my_net.train()"
   ]
  },
  {
   "cell_type": "code",
   "execution_count": 110,
   "metadata": {
    "collapsed": false
   },
   "outputs": [],
   "source": [
    "f = np.load(\"NNweights.npz\")"
   ]
  },
  {
   "cell_type": "code",
   "execution_count": 111,
   "metadata": {
    "collapsed": false
   },
   "outputs": [
    {
     "data": {
      "text/plain": [
       "['arr_1', 'arr_0']"
      ]
     },
     "execution_count": 111,
     "metadata": {},
     "output_type": "execute_result"
    }
   ],
   "source": [
    "list(f)"
   ]
  },
  {
   "cell_type": "code",
   "execution_count": 112,
   "metadata": {
    "collapsed": true
   },
   "outputs": [],
   "source": [
    "x = f['arr_0']\n",
    "y = f['arr_1']"
   ]
  },
  {
   "cell_type": "code",
   "execution_count": 113,
   "metadata": {
    "collapsed": false
   },
   "outputs": [],
   "source": [
    "assert len(x) == 40\n",
    "assert len(y) == 10"
   ]
  },
  {
   "cell_type": "markdown",
   "metadata": {},
   "source": [
    "### Testing Class"
   ]
  },
  {
   "cell_type": "markdown",
   "metadata": {},
   "source": [
    "Whent the \"get_ans\" function is called, the weights and input arrays will be used to calculate the solution. "
   ]
  },
  {
   "cell_type": "code",
   "execution_count": 114,
   "metadata": {
    "collapsed": true
   },
   "outputs": [],
   "source": [
    "class NN_ask (object):\n",
    "    \"\"\" Feed forward using final weights from training backpropagation \"\"\"\n",
    "    def __init__(self, input_array, wij, wjk):\n",
    "        self.input_array = input_array\n",
    "        self.wij = wij\n",
    "        self.wjk = wjk\n",
    "    def get_ans(self):\n",
    "        wij = self.wij\n",
    "        wjk = self.wjk\n",
    "        soln = []\n",
    "        for i in range(len(self.input_array)):\n",
    "            input_array = np.append(self.input_array[i],[1])\n",
    "            self.hidden_sums = (sum((input_array * wij).T)).T\n",
    "            self.hidden_out = np.append(sigmoid(self.hidden_sums),[1]) \n",
    "            self.output_sums = (sum((self.hidden_out * wjk).T)).T\n",
    "            self.output_out = sigmoid(self.output_sums)\n",
    "            for i in range(len(self.output_out)):\n",
    "                if self.output_out[i] == max(self.output_out):\n",
    "                    a = i\n",
    "                    soln.append(a)\n",
    "        return soln"
   ]
  },
  {
   "cell_type": "code",
   "execution_count": 115,
   "metadata": {
    "collapsed": true
   },
   "outputs": [],
   "source": [
    "test_net = NN_ask(test_input, x, y)"
   ]
  },
  {
   "cell_type": "code",
   "execution_count": 116,
   "metadata": {
    "collapsed": true
   },
   "outputs": [],
   "source": [
    "comp_vals = test_net.get_ans() "
   ]
  },
  {
   "cell_type": "markdown",
   "metadata": {},
   "source": [
    "###Calculate and Visualize Accuray"
   ]
  },
  {
   "cell_type": "code",
   "execution_count": 117,
   "metadata": {
    "collapsed": false
   },
   "outputs": [
    {
     "name": "stdout",
     "output_type": "stream",
     "text": [
      "97.7415307403 %\n"
     ]
    }
   ],
   "source": [
    "print(((sum((comp_vals - number_solution == 0).astype(int)) / (1797-1000)) * 100), \"%\")"
   ]
  },
  {
   "cell_type": "code",
   "execution_count": 118,
   "metadata": {
    "collapsed": true
   },
   "outputs": [],
   "source": [
    "def interacting(i):\n",
    "    plt.matshow(digits.images[perm[i+1000]])\n",
    "    plt.show()\n",
    "    print(\"Neural Network's Value: %d\" %comp_vals[i])\n",
    "    print(\"True Known Solution %d\" %number_solution[i])"
   ]
  },
  {
   "cell_type": "code",
   "execution_count": 119,
   "metadata": {
    "collapsed": false
   },
   "outputs": [
    {
     "data": {
      "image/png": "[encoded data removed]",
      "text/plain": [
       "<matplotlib.figure.Figure at 0x7fd9b9c92b38>"
      ]
     },
     "metadata": {},
     "output_type": "display_data"
    },
    {
     "name": "stdout",
     "output_type": "stream",
     "text": [
      "Neural Network's Value: 3\n",
      "True Known Solution 3\n"
     ]
    }
   ],
   "source": [
    "interact(interacting, i=(0,796));"
   ]
  },
  {
   "cell_type": "code",
   "execution_count": null,
   "metadata": {
    "collapsed": true
   },
   "outputs": [],
   "source": []
  }
 ],
 "metadata": {
  "kernelspec": {
   "display_name": "Python 3",
   "language": "python",
   "name": "python3"
  },
  "language_info": {
   "codemirror_mode": {
    "name": "ipython",
    "version": 3
   },
   "file_extension": ".py",
   "mimetype": "text/x-python",
   "name": "python",
   "nbconvert_exporter": "python",
   "pygments_lexer": "ipython3",
   "version": "3.4.0"
  }
 },
 "nbformat": 4,
 "nbformat_minor": 0
}
